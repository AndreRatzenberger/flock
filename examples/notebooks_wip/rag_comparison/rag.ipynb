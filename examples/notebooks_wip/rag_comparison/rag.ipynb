{
 "cells": [
  {
   "cell_type": "code",
   "execution_count": null,
   "metadata": {},
   "outputs": [],
   "source": [
    "\n",
    "\n",
    "\n",
    "from docling.document_converter import DocumentConverter\n",
    "from tqdm import tqdm\n",
    "from flock.core.tools.basic_tools import get_web_content_as_markdown\n",
    "\n",
    "\n",
    "path = \"https://lite.cnn.com\"\n",
    "import re\n",
    "\n",
    "def extract_links_from_markdown(markdown: str, url: str) -> list:\n",
    "    # Regular expression to find all markdown links\n",
    "    link_pattern = re.compile(r'\\[([^\\]]+)\\]\\(([^)]+)\\)')\n",
    "    links = link_pattern.findall(markdown)\n",
    "    return [url +link[1] for link in links]\n",
    "\n",
    "\n",
    "index_markdown = get_web_content_as_markdown(path)\n",
    "links = extract_links_from_markdown(index_markdown,path)\n",
    "\n",
    "\n",
    "converter = DocumentConverter()\n",
    "for link in tqdm(links):\n",
    "    result = converter.convert(link)\n",
    "    markdown = result.document.export_to_markdown()\n",
    "    with open(f\"news/{link.split('/')[-2]}.md\", \"w\", encoding=\"utf-8\") as f:\n",
    "        f.write(markdown)\n"
   ]
  },
  {
   "cell_type": "code",
   "execution_count": 15,
   "metadata": {},
   "outputs": [],
   "source": [
    "kg = KnowledgeGraph()\n",
    "for doc in docs:\n",
    "    kg.nodes.append(\n",
    "        Node(\n",
    "            type=NodeType.DOCUMENT,\n",
    "            properties={\n",
    "                \"page_content\": doc.page_content,\n",
    "                \"document_metadata\": doc.metadata,\n",
    "            },\n",
    "        )\n",
    "    )"
   ]
  },
  {
   "cell_type": "code",
   "execution_count": null,
   "metadata": {},
   "outputs": [],
   "source": [
    "generator_llm = LangchainLLMWrapper(ChatOpenAI(model=\"gpt-4o\"))\n",
    "generator_embeddings = LangchainEmbeddingsWrapper(OpenAIEmbeddings())\n",
    "\n",
    "\n",
    "headline_extractor = HeadlinesExtractor(llm=generator_llm)\n",
    "headline_splitter = HeadlineSplitter(min_tokens=300, max_tokens=1000)\n",
    "keyphrase_extractor = KeyphrasesExtractor(\n",
    "    llm=generator_llm, property_name=\"keyphrases\", max_num=10\n",
    ")\n",
    "relation_builder = OverlapScoreBuilder(\n",
    "    property_name=\"keyphrases\",\n",
    "    new_property_name=\"overlap_score\",\n",
    "    threshold=0.01,\n",
    "    distance_threshold=0.9,\n",
    ")\n",
    "\n",
    "transforms = [\n",
    "    headline_extractor,\n",
    "    headline_splitter,\n",
    "    keyphrase_extractor,\n",
    "    relation_builder,\n",
    "]\n",
    "\n",
    "apply_transforms(kg, transforms=transforms)"
   ]
  },
  {
   "cell_type": "code",
   "execution_count": null,
   "metadata": {},
   "outputs": [],
   "source": [
    "from langchain_openai import AzureChatOpenAI, AzureOpenAIEmbeddings\n",
    "from ragbuilder import RAGBuilder\n",
    "from langchain_openai import ChatOpenAI\n",
    "from langchain_openai import OpenAIEmbeddings\n",
    "# Initialize and optimize with defaults\n",
    "builder = RAGBuilder.from_source_with_defaults(input_source=\"C:\\\\Projects\\\\own\\\\research\\\\kw51\\\\2412.04984v1.md\",default_llm=ChatOpenAI(model=\"gpt-4o\", temperature=0.0),\n",
    "    default_embeddings=OpenAIEmbeddings(model=\"text-embedding-3-large\"),)\n",
    "results = builder.optimize()\n",
    "\n",
    "# Run a query through the complete pipeline\n",
    "response = results.invoke(\"What is HNSW?\")\n",
    "\n",
    "# View optimization summary\n",
    "print(results.summary())"
   ]
  },
  {
   "cell_type": "code",
   "execution_count": null,
   "metadata": {},
   "outputs": [],
   "source": [
    "dataset.to_pandas()"
   ]
  }
 ],
 "metadata": {
  "kernelspec": {
   "display_name": ".venv",
   "language": "python",
   "name": "python3"
  },
  "language_info": {
   "codemirror_mode": {
    "name": "ipython",
    "version": 3
   },
   "file_extension": ".py",
   "mimetype": "text/x-python",
   "name": "python",
   "nbconvert_exporter": "python",
   "pygments_lexer": "ipython3",
   "version": "3.12.8"
  }
 },
 "nbformat": 4,
 "nbformat_minor": 2
}
