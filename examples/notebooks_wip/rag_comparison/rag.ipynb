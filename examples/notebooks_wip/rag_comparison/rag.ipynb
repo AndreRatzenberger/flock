{
 "cells": [
  {
   "cell_type": "code",
   "execution_count": null,
   "metadata": {},
   "outputs": [],
   "source": [
    "\n",
    "\n",
    "\n",
    "from docling.document_converter import DocumentConverter\n",
    "from tqdm import tqdm\n",
    "from flock.core.tools.basic_tools import extract_links_from_markdown, get_web_content_as_markdown\n",
    "\n",
    "path = \"https://lite.cnn.com\"\n",
    "\n",
    "index_markdown = get_web_content_as_markdown(path)\n",
    "links = extract_links_from_markdown(index_markdown,path)\n",
    "\n",
    "\n",
    "converter = DocumentConverter()\n",
    "for link in tqdm(links):\n",
    "    result = converter.convert(link)\n",
    "    markdown = result.document.export_to_markdown()\n",
    "    with open(f\"news/{link.split('/')[-2]}.md\", \"w\", encoding=\"utf-8\") as f:\n",
    "        f.write(markdown)\n"
   ]
  }
 ],
 "metadata": {
  "kernelspec": {
   "display_name": ".venv",
   "language": "python",
   "name": "python3"
  },
  "language_info": {
   "codemirror_mode": {
    "name": "ipython",
    "version": 3
   },
   "file_extension": ".py",
   "mimetype": "text/x-python",
   "name": "python",
   "nbconvert_exporter": "python",
   "pygments_lexer": "ipython3",
   "version": "3.12.8"
  }
 },
 "nbformat": 4,
 "nbformat_minor": 2
}
